{
 "cells": [
  {
   "cell_type": "markdown",
   "metadata": {},
   "source": [
    "# Kmeans\n",
    "Source: http://stanford.edu/~cpiech/cs221/handouts/kmeans.html\n",
    "\n",
    "K-Means is one of the most popular \"clustering\" algorithms.K-Means finds the best centroids by alternating between (1) assigning data points to clusters based on the current centroids (2) chosing centroids (points which are the center of a cluster) based on the current assignment of data points to clusters.\n",
    "## The Algorithm\n",
    "In the clustering problem, we are given a training set $x^{(1)},...,x^{(m)}$, and want to group the data into a few cohesive \"clusters.\" Here, we are given feature vectors for each data point $x^{(i)}∈R^n$ as usual; but no labels $y^{(i)}$ (making this an unsupervised learning problem). Our goal is to predict $k$ centroids and a label $c^{(i)}$ for each datapoint. The k-means clustering algorithm is as follows:\n",
    "1. Initial cluster centroids ${u_1},...,{u_k}∈R^n$ randomly.\n",
    "2. Repeat until Convergence:\n",
    "    \n",
    "    (1) For every $i$, set $c^{(i)}:=arg{min}_j{||x^{(i)}-u_j||}^2$\n",
    "    \n",
    "    (2) For each $j$, set $u_j:=\\frac{\\sum_{i=1}^m {1{(c^{(i)}=j)}x^{(i)}}}{\\sum_{i=1}^m {1{(c^{(i)}=j)}}}$"
   ]
  },
  {
   "cell_type": "markdown",
   "metadata": {},
   "source": [
    "<img src=\"./kmeans_image/1.png\" weight=640 height=320 />\n",
    "<img src=\"./kmeans_image/2.png\" weight=640 height=320 />\n",
    "<img src=\"./kmeans_image/3.png\" weight=640 height=320 />\n",
    "<img src=\"./kmeans_image/4.png\" weight=640 height=320 />\n",
    "<img src=\"./kmeans_image/5.png\" weight=640 height=320 />\n",
    "<img src=\"./kmeans_image/6.png\" weight=640 height=320 />"
   ]
  },
  {
   "cell_type": "code",
   "execution_count": 1,
   "metadata": {
    "collapsed": true
   },
   "outputs": [],
   "source": [
    "import numpy as np\n",
    "from scipy.spatial.distance import cdist\n",
    "import matplotlib.pyplot as plt\n",
    "from sklearn.cluster import KMeans"
   ]
  },
  {
   "cell_type": "code",
   "execution_count": 2,
   "metadata": {
    "collapsed": true
   },
   "outputs": [],
   "source": [
    "# calculate Euclidean distance\n",
    "def euclDistance(vector1, vector2):\n",
    "    return np.sqrt(np.sum(np.power(vector2 - vector1, 2)))"
   ]
  },
  {
   "cell_type": "code",
   "execution_count": 3,
   "metadata": {
    "collapsed": true
   },
   "outputs": [],
   "source": [
    "# init centroids with random samples  \n",
    "def initCentroids(dataSet, k):\n",
    "    numSamples, dim = dataSet.shape\n",
    "    index = np.random.uniform(0, numSamples, k).astype(int)\n",
    "    centroids = dataSet[index]\n",
    "    return centroids"
   ]
  },
  {
   "cell_type": "code",
   "execution_count": 4,
   "metadata": {
    "collapsed": true
   },
   "outputs": [],
   "source": [
    "# show your cluster (only available with 2-D data) \n",
    "def showCluster(dataSet, k, centroids, clusterAssment):  \n",
    "    numSamples, dim = dataSet.shape\n",
    "    if dim != 2:\n",
    "        print (\"Sorry! I can not draw because the dimension of your data is not 2!\")  \n",
    "        return 1  \n",
    "  \n",
    "    mark = ['or', 'ob', 'og', 'ok', '^r', '+r', 'sr', 'dr', '<r', 'pr']  \n",
    "    if k > len(mark):\n",
    "        print (\"Sorry! Your k is too large!\")  \n",
    "        return 1\n",
    "\n",
    "    # draw all samples\n",
    "    for i in range(numSamples):\n",
    "        # assign colors for samples\n",
    "        markIndex = int(clusterAssment[i, 0])\n",
    "        plt.plot(dataSet[i, 0], dataSet[i, 1], mark[markIndex])\n",
    "\n",
    "    mark = ['Dr', 'Db', 'Dg', 'Dk', '^b', '+b', 'sb', 'db', '<b', 'pb']  \n",
    "    # draw the centroids\n",
    "    for i in range(k):\n",
    "        plt.plot(centroids[i, 0], centroids[i, 1], mark[i], markersize = 12)  \n",
    "\n",
    "    plt.show()"
   ]
  },
  {
   "cell_type": "code",
   "execution_count": 5,
   "metadata": {
    "collapsed": true
   },
   "outputs": [],
   "source": [
    "# k-means cluster\n",
    "def kmeans(dataSet, k):  \n",
    "    numSamples = dataSet.shape[0]\n",
    "    # store which cluster this sample belongs to\n",
    "    clusterAssment = np.zeros([numSamples, 1])\n",
    "    clusterChanged = True\n",
    "\n",
    "    ## step 1: init centroids\n",
    "    centroids = initCentroids(dataSet, k)\n",
    "\n",
    "    epoch = 0\n",
    "    while clusterChanged:\n",
    "        clusterChanged = False\n",
    "        ## for each sample\n",
    "        for i in range(numSamples):\n",
    "            minDist  = float('inf')\n",
    "            minIndex = 0\n",
    "            # for each centroid\n",
    "            # step 2: find the centroid who is closest  \n",
    "            for j in range(k):  \n",
    "                distance = euclDistance(centroids[j, :], dataSet[i, :])  \n",
    "                if distance < minDist:  ######对于每一个点 计算每一个点到k个集群中心的距离 并记录下该点距离最近的集群中心的J\n",
    "                    minDist  = distance  \n",
    "                    minIndex = j  \n",
    "              \n",
    "            ## step 3: update its cluster ######\n",
    "            if clusterAssment[i, 0] != minIndex:######判断该点是否需要继续划分\n",
    "                clusterChanged = True\n",
    "                clusterAssment[i, :] = minIndex\n",
    "        ##### 每一个点均已重新分配到某一类\n",
    "        ## step 4: update centroids\n",
    "        for j in range(k):\n",
    "            pointsInCluster = dataSet[np.nonzero(clusterAssment[:, 0] == j)[0], :]#####np.nonzero函数是numpy中用于得到数组array中非零元素的位置（数组索引）的函数\n",
    "            ####上一行代码得到数据第j个聚类中心的点\n",
    "            centroids[j, :] = np.mean(pointsInCluster, axis=0)#####重新得到聚类中心\n",
    "        \n",
    "        if epoch < 5:\n",
    "            print('epoch: ' + str(epoch))\n",
    "            showCluster(dataSet, k, centroids, clusterAssment)\n",
    "        epoch = epoch + 1\n",
    "np.nan        \n",
    "    print ('Congratulations, cluster complete!')\n",
    "    return centroids, clusterAssment"
   ]
  },
  {
   "cell_type": "code",
   "execution_count": 6,
   "metadata": {
    "collapsed": true
   },
   "outputs": [],
   "source": [
    "# k-means cluster\n",
    "def kmeans_simple(dataSet, k):\n",
    "    numSamples = dataSet.shape[0]\n",
    "    clusterChanged = True\n",
    "    clusterAssment = np.zeros([numSamples, 1])\n",
    "    \n",
    "    ## step 1: init centroids\n",
    "    centroids = initCentroids(dataSet, k)\n",
    "\n",
    "    while clusterChanged:\n",
    "        clusterChanged = False\n",
    "        # calculate pairwise distance\n",
    "        distance = cdist(dataSet, centroids)\n",
    "\n",
    "        # find the closest centroid for each sample\n",
    "        tmpIndex = np.reshape(np.argmin(distance, 1), [-1, 1])\n",
    "        \n",
    "        # if any index changes, continue\n",
    "        if (tmpIndex != clusterAssment).any():\n",
    "            clusterChanged = True\n",
    "\n",
    "        # update clusterAssment\n",
    "        clusterAssment = tmpIndex\n",
    "\n",
    "        # update centroids\n",
    "        for j in range(k):\n",
    "            pointsInCluster = dataSet[np.nonzero(clusterAssment == j)[0], :]\n",
    "            centroids[j, :] = np.mean(pointsInCluster, 0)\n",
    "\n",
    "    print ('Congratulations, cluster complete!')  \n",
    "    return centroids, clusterAssment"
   ]
  },
  {
   "cell_type": "code",
   "execution_count": 7,
   "metadata": {
    "collapsed": true
   },
   "outputs": [],
   "source": [
    "def customReadFile(fileName):\n",
    "    fileIn = open(fileName, 'r')\n",
    "    dataSet = []\n",
    "    for line in fileIn.readlines():\n",
    "        temp=[]\n",
    "        lineArr = line.strip().split('\\t')\n",
    "        temp.append(float(lineArr[0]))\n",
    "        temp.append(float(lineArr[1]))\n",
    "        dataSet.append(temp)\n",
    "    fileIn.close()\n",
    "    return np.mat(dataSet)"
   ]
  },
  {
   "cell_type": "code",
   "execution_count": 8,
   "metadata": {},
   "outputs": [
    {
     "name": "stdout",
     "output_type": "stream",
     "text": [
      "Step 1: Load data ../input/testSet.txt...\n",
      "Number of samples: 80\n",
      "Step 2: clustering...\n",
      "epoch: 0\n"
     ]
    },
    {
     "data": {
      "image/png": "[encoded data removed]",
      "text/plain": [
       "<Figure size 432x288 with 1 Axes>"
      ]
     },
     "metadata": {
      "needs_background": "light"
     },
     "output_type": "display_data"
    },
    {
     "name": "stdout",
     "output_type": "stream",
     "text": [
      "epoch: 1\n"
     ]
    },
    {
     "data": {
      "image/png": "[encoded data removed]",
      "text/plain": [
       "<Figure size 432x288 with 1 Axes>"
      ]
     },
     "metadata": {
      "needs_background": "light"
     },
     "output_type": "display_data"
    },
    {
     "name": "stdout",
     "output_type": "stream",
     "text": [
      "epoch: 2\n"
     ]
    },
    {
     "data": {
      "image/png": "[encoded data removed]",
      "text/plain": [
       "<Figure size 432x288 with 1 Axes>"
      ]
     },
     "metadata": {
      "needs_background": "light"
     },
     "output_type": "display_data"
    },
    {
     "name": "stdout",
     "output_type": "stream",
     "text": [
      "epoch: 3\n"
     ]
    },
    {
     "data": {
      "image/png": "[encoded data removed]",
      "text/plain": [
       "<Figure size 432x288 with 1 Axes>"
      ]
     },
     "metadata": {
      "needs_background": "light"
     },
     "output_type": "display_data"
    },
    {
     "name": "stdout",
     "output_type": "stream",
     "text": [
      "Congratulations, cluster complete!\n",
      "Step 3: show the result...\n"
     ]
    },
    {
     "data": {
      "image/png": "[encoded data removed]",
      "text/plain": [
       "<Figure size 432x288 with 1 Axes>"
      ]
     },
     "metadata": {
      "needs_background": "light"
     },
     "output_type": "display_data"
    }
   ],
   "source": [
    "## step 1: load data\n",
    "fileIn = '../input/testSet.txt'\n",
    "print ('Step 1: Load data ' + fileIn + '...')\n",
    "dataSet = customReadFile(fileIn)\n",
    "print('Number of samples: ' + str(dataSet.shape[0]))\n",
    "\n",
    "## step 2: clustering...  \n",
    "print (\"Step 2: clustering...\"  )\n",
    "k = 4\n",
    "centroids, clusterAssment = kmeans(dataSet, k)\n",
    "# centroids, clusterAssment = kmeans_simple(dataSet, k)\n",
    "# clusteringResult = KMeans(n_clusters=k).fit(dataSet)\n",
    "# clusterAssment = np.reshape(clusteringResult.labels_, [-1, 1])\n",
    "# centroids = clusteringResult.cluster_centers_\n",
    "\n",
    "## step 3: show the result\n",
    "print (\"Step 3: show the result...\"  )\n",
    "showCluster(dataSet, k, centroids, clusterAssment)"
   ]
  },
  {
   "cell_type": "markdown",
   "metadata": {},
   "source": [
    "# PlayGround\n",
    "http://stanford.edu/class/ee103/visualizations/kmeans/kmeans.html\n",
    "# Code\n",
    "https://github.com/wojiushimogui/kmeans"
   ]
  }
 ],
 "metadata": {
  "kernelspec": {
   "display_name": "Python 3",
   "language": "python",
   "name": "python3"
  },
  "language_info": {
   "codemirror_mode": {
    "name": "ipython",
    "version": 3
   },
   "file_extension": ".py",
   "mimetype": "text/x-python",
   "name": "python",
   "nbconvert_exporter": "python",
   "pygments_lexer": "ipython3",
   "version": "3.6.1"
  }
 },
 "nbformat": 4,
 "nbformat_minor": 1
}
